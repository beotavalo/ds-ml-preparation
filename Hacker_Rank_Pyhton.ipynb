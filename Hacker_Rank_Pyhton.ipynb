{
  "nbformat": 4,
  "nbformat_minor": 0,
  "metadata": {
    "colab": {
      "provenance": [],
      "authorship_tag": "ABX9TyPnyGedJlcut9Yo5pZT8RQw",
      "include_colab_link": true
    },
    "kernelspec": {
      "name": "python3",
      "display_name": "Python 3"
    },
    "language_info": {
      "name": "python"
    }
  },
  "cells": [
    {
      "cell_type": "markdown",
      "metadata": {
        "id": "view-in-github",
        "colab_type": "text"
      },
      "source": [
        "<a href=\"https://colab.research.google.com/github/beotavalo/ds-ml-preparation/blob/main/Hacker_Rank_Pyhton.ipynb\" target=\"_parent\"><img src=\"https://colab.research.google.com/assets/colab-badge.svg\" alt=\"Open In Colab\"/></a>"
      ]
    },
    {
      "cell_type": "markdown",
      "source": [
        "From number to string:\n",
        "\n",
        "Input: 3 (int)\n",
        "\n",
        "Output: 123 (str)"
      ],
      "metadata": {
        "id": "ZHY9dmwRGuWe"
      }
    },
    {
      "cell_type": "code",
      "execution_count": null,
      "metadata": {
        "id": "MfP7bQzIGlVB"
      },
      "outputs": [],
      "source": [
        "def print_string(num: int) -> str:\n",
        "    num_string = []\n",
        "    for n in range(num):\n",
        "        num_string.append(str(n+1))\n",
        "        result = ''.join(num_string)\n",
        "    return print(result)\n",
        "if __name__ == '__main__':\n",
        "    n = int(input())\n",
        "    print_string(n)"
      ]
    }
  ]
}